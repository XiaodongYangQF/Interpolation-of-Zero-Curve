{
 "cells": [
  {
   "cell_type": "markdown",
   "id": "3b44a3f0",
   "metadata": {
    "toc": true
   },
   "source": [
    "<h1>Table of Contents<span class=\"tocSkip\"></span></h1>\n",
    "<div class=\"toc\"><ul class=\"toc-item\"><li><span><a href=\"#Loading-and-preprocessing-data\" data-toc-modified-id=\"Loading-and-preprocessing-data-1\"><span class=\"toc-item-num\">1&nbsp;&nbsp;</span>Loading and preprocessing data</a></span></li><li><span><a href=\"#Interpolate-the-zero-curve\" data-toc-modified-id=\"Interpolate-the-zero-curve-2\"><span class=\"toc-item-num\">2&nbsp;&nbsp;</span>Interpolate the zero curve</a></span></li></ul></div>"
   ]
  },
  {
   "cell_type": "markdown",
   "id": "1ea8341e",
   "metadata": {},
   "source": [
    "# Loading and preprocessing data"
   ]
  },
  {
   "cell_type": "code",
   "execution_count": 1,
   "id": "ed857d4b",
   "metadata": {
    "ExecuteTime": {
     "end_time": "2023-03-01T18:43:54.958874Z",
     "start_time": "2023-03-01T18:43:54.445287Z"
    }
   },
   "outputs": [],
   "source": [
    "import numpy as np\n",
    "import pandas as pd"
   ]
  },
  {
   "cell_type": "code",
   "execution_count": 2,
   "id": "4354f116",
   "metadata": {
    "ExecuteTime": {
     "end_time": "2023-03-01T18:43:55.304574Z",
     "start_time": "2023-03-01T18:43:54.960774Z"
    },
    "scrolled": true
   },
   "outputs": [
    {
     "data": {
      "text/html": [
       "<div>\n",
       "<style scoped>\n",
       "    .dataframe tbody tr th:only-of-type {\n",
       "        vertical-align: middle;\n",
       "    }\n",
       "\n",
       "    .dataframe tbody tr th {\n",
       "        vertical-align: top;\n",
       "    }\n",
       "\n",
       "    .dataframe thead th {\n",
       "        text-align: right;\n",
       "    }\n",
       "</style>\n",
       "<table border=\"1\" class=\"dataframe\">\n",
       "  <thead>\n",
       "    <tr style=\"text-align: right;\">\n",
       "      <th></th>\n",
       "      <th>Date</th>\n",
       "      <th>SpotPrice</th>\n",
       "      <th>Expiration</th>\n",
       "      <th>Maturity</th>\n",
       "      <th>ForwardPrice</th>\n",
       "      <th>Strike</th>\n",
       "      <th>Dividend</th>\n",
       "      <th>CallBid</th>\n",
       "      <th>CallOffer</th>\n",
       "      <th>CallMid</th>\n",
       "      <th>PutBid</th>\n",
       "      <th>PutOffer</th>\n",
       "      <th>PutMid</th>\n",
       "    </tr>\n",
       "  </thead>\n",
       "  <tbody>\n",
       "    <tr>\n",
       "      <th>0</th>\n",
       "      <td>1996-01-04</td>\n",
       "      <td>617.7</td>\n",
       "      <td>1996-01-20</td>\n",
       "      <td>14</td>\n",
       "      <td>618.473789</td>\n",
       "      <td>600</td>\n",
       "      <td>0.024605</td>\n",
       "      <td>17.125</td>\n",
       "      <td>17.875</td>\n",
       "      <td>17.5000</td>\n",
       "      <td>1.625</td>\n",
       "      <td>1.875</td>\n",
       "      <td>1.7500</td>\n",
       "    </tr>\n",
       "    <tr>\n",
       "      <th>1</th>\n",
       "      <td>1996-01-04</td>\n",
       "      <td>617.7</td>\n",
       "      <td>1996-01-20</td>\n",
       "      <td>14</td>\n",
       "      <td>618.473789</td>\n",
       "      <td>605</td>\n",
       "      <td>0.024605</td>\n",
       "      <td>12.875</td>\n",
       "      <td>13.625</td>\n",
       "      <td>13.2500</td>\n",
       "      <td>2.500</td>\n",
       "      <td>2.750</td>\n",
       "      <td>2.6250</td>\n",
       "    </tr>\n",
       "    <tr>\n",
       "      <th>2</th>\n",
       "      <td>1996-01-04</td>\n",
       "      <td>617.7</td>\n",
       "      <td>1996-01-20</td>\n",
       "      <td>14</td>\n",
       "      <td>618.473789</td>\n",
       "      <td>610</td>\n",
       "      <td>0.024605</td>\n",
       "      <td>10.000</td>\n",
       "      <td>10.375</td>\n",
       "      <td>10.1875</td>\n",
       "      <td>3.625</td>\n",
       "      <td>4.000</td>\n",
       "      <td>3.8125</td>\n",
       "    </tr>\n",
       "    <tr>\n",
       "      <th>3</th>\n",
       "      <td>1996-01-04</td>\n",
       "      <td>617.7</td>\n",
       "      <td>1996-01-20</td>\n",
       "      <td>14</td>\n",
       "      <td>618.473789</td>\n",
       "      <td>615</td>\n",
       "      <td>0.024605</td>\n",
       "      <td>7.500</td>\n",
       "      <td>8.000</td>\n",
       "      <td>7.7500</td>\n",
       "      <td>5.250</td>\n",
       "      <td>5.500</td>\n",
       "      <td>5.3750</td>\n",
       "    </tr>\n",
       "    <tr>\n",
       "      <th>4</th>\n",
       "      <td>1996-01-04</td>\n",
       "      <td>617.7</td>\n",
       "      <td>1996-01-20</td>\n",
       "      <td>14</td>\n",
       "      <td>618.473789</td>\n",
       "      <td>620</td>\n",
       "      <td>0.024605</td>\n",
       "      <td>4.500</td>\n",
       "      <td>4.875</td>\n",
       "      <td>4.6875</td>\n",
       "      <td>6.875</td>\n",
       "      <td>7.125</td>\n",
       "      <td>7.0000</td>\n",
       "    </tr>\n",
       "  </tbody>\n",
       "</table>\n",
       "</div>"
      ],
      "text/plain": [
       "         Date  SpotPrice  Expiration  Maturity  ForwardPrice  Strike  \\\n",
       "0  1996-01-04      617.7  1996-01-20        14    618.473789     600   \n",
       "1  1996-01-04      617.7  1996-01-20        14    618.473789     605   \n",
       "2  1996-01-04      617.7  1996-01-20        14    618.473789     610   \n",
       "3  1996-01-04      617.7  1996-01-20        14    618.473789     615   \n",
       "4  1996-01-04      617.7  1996-01-20        14    618.473789     620   \n",
       "\n",
       "   Dividend  CallBid  CallOffer  CallMid  PutBid  PutOffer  PutMid  \n",
       "0  0.024605   17.125     17.875  17.5000   1.625     1.875  1.7500  \n",
       "1  0.024605   12.875     13.625  13.2500   2.500     2.750  2.6250  \n",
       "2  0.024605   10.000     10.375  10.1875   3.625     4.000  3.8125  \n",
       "3  0.024605    7.500      8.000   7.7500   5.250     5.500  5.3750  \n",
       "4  0.024605    4.500      4.875   4.6875   6.875     7.125  7.0000  "
      ]
     },
     "execution_count": 2,
     "metadata": {},
     "output_type": "execute_result"
    }
   ],
   "source": [
    "data = pd.read_csv('/Users/antoneyoung/Downloads/optionmetrics/Option Data.csv')\n",
    "data.head()"
   ]
  },
  {
   "cell_type": "code",
   "execution_count": 3,
   "id": "ea174879",
   "metadata": {
    "ExecuteTime": {
     "end_time": "2023-03-01T18:43:55.435702Z",
     "start_time": "2023-03-01T18:43:55.306980Z"
    }
   },
   "outputs": [],
   "source": [
    "zc = pd.read_csv('/Users/antoneyoung/Downloads/optionmetrics/Zero Curve.csv')"
   ]
  },
  {
   "cell_type": "code",
   "execution_count": 4,
   "id": "b25ce102",
   "metadata": {
    "ExecuteTime": {
     "end_time": "2023-03-01T18:43:55.445349Z",
     "start_time": "2023-03-01T18:43:55.438563Z"
    }
   },
   "outputs": [
    {
     "data": {
      "text/html": [
       "<div>\n",
       "<style scoped>\n",
       "    .dataframe tbody tr th:only-of-type {\n",
       "        vertical-align: middle;\n",
       "    }\n",
       "\n",
       "    .dataframe tbody tr th {\n",
       "        vertical-align: top;\n",
       "    }\n",
       "\n",
       "    .dataframe thead th {\n",
       "        text-align: right;\n",
       "    }\n",
       "</style>\n",
       "<table border=\"1\" class=\"dataframe\">\n",
       "  <thead>\n",
       "    <tr style=\"text-align: right;\">\n",
       "      <th></th>\n",
       "      <th>Date</th>\n",
       "      <th>Days</th>\n",
       "      <th>Rate</th>\n",
       "    </tr>\n",
       "  </thead>\n",
       "  <tbody>\n",
       "    <tr>\n",
       "      <th>0</th>\n",
       "      <td>1996-01-02 00:00:00</td>\n",
       "      <td>9</td>\n",
       "      <td>5.763067</td>\n",
       "    </tr>\n",
       "    <tr>\n",
       "      <th>1</th>\n",
       "      <td>1996-01-02 00:00:00</td>\n",
       "      <td>15</td>\n",
       "      <td>5.745902</td>\n",
       "    </tr>\n",
       "    <tr>\n",
       "      <th>2</th>\n",
       "      <td>1996-01-02 00:00:00</td>\n",
       "      <td>50</td>\n",
       "      <td>5.673317</td>\n",
       "    </tr>\n",
       "    <tr>\n",
       "      <th>3</th>\n",
       "      <td>1996-01-02 00:00:00</td>\n",
       "      <td>78</td>\n",
       "      <td>5.608884</td>\n",
       "    </tr>\n",
       "    <tr>\n",
       "      <th>4</th>\n",
       "      <td>1996-01-02 00:00:00</td>\n",
       "      <td>169</td>\n",
       "      <td>5.473762</td>\n",
       "    </tr>\n",
       "  </tbody>\n",
       "</table>\n",
       "</div>"
      ],
      "text/plain": [
       "                  Date  Days      Rate\n",
       "0  1996-01-02 00:00:00     9  5.763067\n",
       "1  1996-01-02 00:00:00    15  5.745902\n",
       "2  1996-01-02 00:00:00    50  5.673317\n",
       "3  1996-01-02 00:00:00    78  5.608884\n",
       "4  1996-01-02 00:00:00   169  5.473762"
      ]
     },
     "execution_count": 4,
     "metadata": {},
     "output_type": "execute_result"
    }
   ],
   "source": [
    "zc.head()"
   ]
  },
  {
   "cell_type": "code",
   "execution_count": 5,
   "id": "2aedfb4a",
   "metadata": {
    "ExecuteTime": {
     "end_time": "2023-03-01T18:43:55.450175Z",
     "start_time": "2023-03-01T18:43:55.446777Z"
    }
   },
   "outputs": [],
   "source": [
    "df_r = zc\n",
    "df_T = data[['Maturity']]"
   ]
  },
  {
   "cell_type": "code",
   "execution_count": 6,
   "id": "d716e273",
   "metadata": {
    "ExecuteTime": {
     "end_time": "2023-03-01T18:43:55.478597Z",
     "start_time": "2023-03-01T18:43:55.451738Z"
    }
   },
   "outputs": [
    {
     "data": {
      "text/html": [
       "<div>\n",
       "<style scoped>\n",
       "    .dataframe tbody tr th:only-of-type {\n",
       "        vertical-align: middle;\n",
       "    }\n",
       "\n",
       "    .dataframe tbody tr th {\n",
       "        vertical-align: top;\n",
       "    }\n",
       "\n",
       "    .dataframe thead th {\n",
       "        text-align: right;\n",
       "    }\n",
       "</style>\n",
       "<table border=\"1\" class=\"dataframe\">\n",
       "  <thead>\n",
       "    <tr style=\"text-align: right;\">\n",
       "      <th></th>\n",
       "      <th>Date</th>\n",
       "      <th>Days</th>\n",
       "      <th>Rate</th>\n",
       "      <th>Maturity</th>\n",
       "    </tr>\n",
       "  </thead>\n",
       "  <tbody>\n",
       "    <tr>\n",
       "      <th>0</th>\n",
       "      <td>1996-01-02 00:00:00</td>\n",
       "      <td>9</td>\n",
       "      <td>5.763067</td>\n",
       "      <td>14</td>\n",
       "    </tr>\n",
       "    <tr>\n",
       "      <th>1</th>\n",
       "      <td>1996-01-02 00:00:00</td>\n",
       "      <td>15</td>\n",
       "      <td>5.745902</td>\n",
       "      <td>14</td>\n",
       "    </tr>\n",
       "    <tr>\n",
       "      <th>2</th>\n",
       "      <td>1996-01-02 00:00:00</td>\n",
       "      <td>50</td>\n",
       "      <td>5.673317</td>\n",
       "      <td>14</td>\n",
       "    </tr>\n",
       "    <tr>\n",
       "      <th>3</th>\n",
       "      <td>1996-01-02 00:00:00</td>\n",
       "      <td>78</td>\n",
       "      <td>5.608884</td>\n",
       "      <td>14</td>\n",
       "    </tr>\n",
       "    <tr>\n",
       "      <th>4</th>\n",
       "      <td>1996-01-02 00:00:00</td>\n",
       "      <td>169</td>\n",
       "      <td>5.473762</td>\n",
       "      <td>14</td>\n",
       "    </tr>\n",
       "  </tbody>\n",
       "</table>\n",
       "</div>"
      ],
      "text/plain": [
       "                  Date  Days      Rate  Maturity\n",
       "0  1996-01-02 00:00:00     9  5.763067        14\n",
       "1  1996-01-02 00:00:00    15  5.745902        14\n",
       "2  1996-01-02 00:00:00    50  5.673317        14\n",
       "3  1996-01-02 00:00:00    78  5.608884        14\n",
       "4  1996-01-02 00:00:00   169  5.473762        14"
      ]
     },
     "execution_count": 6,
     "metadata": {},
     "output_type": "execute_result"
    }
   ],
   "source": [
    "df = pd.merge(df_r, df_T, left_index = True, right_index = True)\n",
    "df.head()"
   ]
  },
  {
   "cell_type": "code",
   "execution_count": 7,
   "id": "0ee3b1d4",
   "metadata": {
    "ExecuteTime": {
     "end_time": "2023-03-01T18:43:55.517599Z",
     "start_time": "2023-03-01T18:43:55.480929Z"
    }
   },
   "outputs": [],
   "source": [
    "df['Date'] = pd.to_datetime(df['Date'])"
   ]
  },
  {
   "cell_type": "code",
   "execution_count": 8,
   "id": "96551dd0",
   "metadata": {
    "ExecuteTime": {
     "end_time": "2023-03-01T18:43:55.525996Z",
     "start_time": "2023-03-01T18:43:55.521783Z"
    }
   },
   "outputs": [],
   "source": [
    "df['DayChange'] = df['Date'].diff()!=0.0"
   ]
  },
  {
   "cell_type": "code",
   "execution_count": 9,
   "id": "c763c8a1",
   "metadata": {
    "ExecuteTime": {
     "end_time": "2023-03-01T18:43:55.536152Z",
     "start_time": "2023-03-01T18:43:55.528550Z"
    }
   },
   "outputs": [
    {
     "data": {
      "text/html": [
       "<div>\n",
       "<style scoped>\n",
       "    .dataframe tbody tr th:only-of-type {\n",
       "        vertical-align: middle;\n",
       "    }\n",
       "\n",
       "    .dataframe tbody tr th {\n",
       "        vertical-align: top;\n",
       "    }\n",
       "\n",
       "    .dataframe thead th {\n",
       "        text-align: right;\n",
       "    }\n",
       "</style>\n",
       "<table border=\"1\" class=\"dataframe\">\n",
       "  <thead>\n",
       "    <tr style=\"text-align: right;\">\n",
       "      <th></th>\n",
       "      <th>Date</th>\n",
       "      <th>Days</th>\n",
       "      <th>Rate</th>\n",
       "      <th>Maturity</th>\n",
       "      <th>DayChange</th>\n",
       "    </tr>\n",
       "  </thead>\n",
       "  <tbody>\n",
       "    <tr>\n",
       "      <th>0</th>\n",
       "      <td>1996-01-02</td>\n",
       "      <td>9</td>\n",
       "      <td>5.763067</td>\n",
       "      <td>14</td>\n",
       "      <td>True</td>\n",
       "    </tr>\n",
       "    <tr>\n",
       "      <th>1</th>\n",
       "      <td>1996-01-02</td>\n",
       "      <td>15</td>\n",
       "      <td>5.745902</td>\n",
       "      <td>14</td>\n",
       "      <td>True</td>\n",
       "    </tr>\n",
       "    <tr>\n",
       "      <th>2</th>\n",
       "      <td>1996-01-02</td>\n",
       "      <td>50</td>\n",
       "      <td>5.673317</td>\n",
       "      <td>14</td>\n",
       "      <td>True</td>\n",
       "    </tr>\n",
       "    <tr>\n",
       "      <th>3</th>\n",
       "      <td>1996-01-02</td>\n",
       "      <td>78</td>\n",
       "      <td>5.608884</td>\n",
       "      <td>14</td>\n",
       "      <td>True</td>\n",
       "    </tr>\n",
       "    <tr>\n",
       "      <th>4</th>\n",
       "      <td>1996-01-02</td>\n",
       "      <td>169</td>\n",
       "      <td>5.473762</td>\n",
       "      <td>14</td>\n",
       "      <td>True</td>\n",
       "    </tr>\n",
       "  </tbody>\n",
       "</table>\n",
       "</div>"
      ],
      "text/plain": [
       "        Date  Days      Rate  Maturity  DayChange\n",
       "0 1996-01-02     9  5.763067        14       True\n",
       "1 1996-01-02    15  5.745902        14       True\n",
       "2 1996-01-02    50  5.673317        14       True\n",
       "3 1996-01-02    78  5.608884        14       True\n",
       "4 1996-01-02   169  5.473762        14       True"
      ]
     },
     "execution_count": 9,
     "metadata": {},
     "output_type": "execute_result"
    }
   ],
   "source": [
    "df.head()"
   ]
  },
  {
   "cell_type": "markdown",
   "id": "54075722",
   "metadata": {},
   "source": [
    "# Interpolate the zero curve"
   ]
  },
  {
   "cell_type": "code",
   "execution_count": 10,
   "id": "40891df7",
   "metadata": {
    "ExecuteTime": {
     "end_time": "2023-03-01T18:43:55.546642Z",
     "start_time": "2023-03-01T18:43:55.538140Z"
    }
   },
   "outputs": [],
   "source": [
    "date_range = df.index.unique()\n",
    "N = len(date_range)"
   ]
  },
  {
   "cell_type": "code",
   "execution_count": 11,
   "id": "0e36aca6",
   "metadata": {
    "ExecuteTime": {
     "end_time": "2023-03-01T18:43:55.568356Z",
     "start_time": "2023-03-01T18:43:55.549097Z"
    }
   },
   "outputs": [],
   "source": [
    "df_temp = df.copy()\n",
    "df_temp.set_index (['Date'], inplace=True)\n",
    "date_rng_check = df_temp.index.unique()"
   ]
  },
  {
   "cell_type": "code",
   "execution_count": 12,
   "id": "ddc24bed",
   "metadata": {
    "ExecuteTime": {
     "end_time": "2023-03-01T18:43:58.339390Z",
     "start_time": "2023-03-01T18:43:55.571158Z"
    }
   },
   "outputs": [],
   "source": [
    "rates_interp_list = []\n",
    "for i in date_rng_check:\n",
    "    t_day = i.strftime('%Y-%m-%d')\n",
    "    t_day_df = df_temp.loc[t_day]\n",
    "    xp = t_day_df['Days']\n",
    "    yp = t_day_df['Rate']\n",
    "    x = t_day_df['Maturity']\n",
    "    rates_interp = np.interp(x, xp, yp)\n",
    "    rates_interp_list.append(rates_interp)"
   ]
  },
  {
   "cell_type": "code",
   "execution_count": 13,
   "id": "c3ddafc0",
   "metadata": {
    "ExecuteTime": {
     "end_time": "2023-03-01T18:43:58.369778Z",
     "start_time": "2023-03-01T18:43:58.340988Z"
    }
   },
   "outputs": [],
   "source": [
    "list_1d = [b for a in rates_interp_list for b in a]"
   ]
  },
  {
   "cell_type": "code",
   "execution_count": 14,
   "id": "9ff06dad",
   "metadata": {
    "ExecuteTime": {
     "end_time": "2023-03-01T18:43:58.404848Z",
     "start_time": "2023-03-01T18:43:58.371774Z"
    }
   },
   "outputs": [],
   "source": [
    "data['Rates_interp'] = list_1d"
   ]
  },
  {
   "cell_type": "code",
   "execution_count": 15,
   "id": "0bded868",
   "metadata": {
    "ExecuteTime": {
     "end_time": "2023-03-01T18:43:58.439718Z",
     "start_time": "2023-03-01T18:43:58.406170Z"
    }
   },
   "outputs": [
    {
     "data": {
      "text/html": [
       "<div>\n",
       "<style scoped>\n",
       "    .dataframe tbody tr th:only-of-type {\n",
       "        vertical-align: middle;\n",
       "    }\n",
       "\n",
       "    .dataframe tbody tr th {\n",
       "        vertical-align: top;\n",
       "    }\n",
       "\n",
       "    .dataframe thead th {\n",
       "        text-align: right;\n",
       "    }\n",
       "</style>\n",
       "<table border=\"1\" class=\"dataframe\">\n",
       "  <thead>\n",
       "    <tr style=\"text-align: right;\">\n",
       "      <th></th>\n",
       "      <th>SpotPrice</th>\n",
       "      <th>Expiration</th>\n",
       "      <th>Maturity</th>\n",
       "      <th>ForwardPrice</th>\n",
       "      <th>Strike</th>\n",
       "      <th>Dividend</th>\n",
       "      <th>CallBid</th>\n",
       "      <th>CallOffer</th>\n",
       "      <th>CallMid</th>\n",
       "      <th>PutBid</th>\n",
       "      <th>PutOffer</th>\n",
       "      <th>PutMid</th>\n",
       "      <th>Rates_interp</th>\n",
       "    </tr>\n",
       "    <tr>\n",
       "      <th>Date</th>\n",
       "      <th></th>\n",
       "      <th></th>\n",
       "      <th></th>\n",
       "      <th></th>\n",
       "      <th></th>\n",
       "      <th></th>\n",
       "      <th></th>\n",
       "      <th></th>\n",
       "      <th></th>\n",
       "      <th></th>\n",
       "      <th></th>\n",
       "      <th></th>\n",
       "      <th></th>\n",
       "    </tr>\n",
       "  </thead>\n",
       "  <tbody>\n",
       "    <tr>\n",
       "      <th>1996-01-04</th>\n",
       "      <td>617.7</td>\n",
       "      <td>1996-01-20</td>\n",
       "      <td>14</td>\n",
       "      <td>618.473789</td>\n",
       "      <td>600</td>\n",
       "      <td>0.024605</td>\n",
       "      <td>17.1250</td>\n",
       "      <td>17.875</td>\n",
       "      <td>17.50000</td>\n",
       "      <td>1.625</td>\n",
       "      <td>1.875</td>\n",
       "      <td>1.7500</td>\n",
       "      <td>5.748763</td>\n",
       "    </tr>\n",
       "    <tr>\n",
       "      <th>1996-01-04</th>\n",
       "      <td>617.7</td>\n",
       "      <td>1996-01-20</td>\n",
       "      <td>14</td>\n",
       "      <td>618.473789</td>\n",
       "      <td>605</td>\n",
       "      <td>0.024605</td>\n",
       "      <td>12.8750</td>\n",
       "      <td>13.625</td>\n",
       "      <td>13.25000</td>\n",
       "      <td>2.500</td>\n",
       "      <td>2.750</td>\n",
       "      <td>2.6250</td>\n",
       "      <td>5.748763</td>\n",
       "    </tr>\n",
       "    <tr>\n",
       "      <th>1996-01-04</th>\n",
       "      <td>617.7</td>\n",
       "      <td>1996-01-20</td>\n",
       "      <td>14</td>\n",
       "      <td>618.473789</td>\n",
       "      <td>610</td>\n",
       "      <td>0.024605</td>\n",
       "      <td>10.0000</td>\n",
       "      <td>10.375</td>\n",
       "      <td>10.18750</td>\n",
       "      <td>3.625</td>\n",
       "      <td>4.000</td>\n",
       "      <td>3.8125</td>\n",
       "      <td>5.748763</td>\n",
       "    </tr>\n",
       "    <tr>\n",
       "      <th>1996-01-04</th>\n",
       "      <td>617.7</td>\n",
       "      <td>1996-01-20</td>\n",
       "      <td>14</td>\n",
       "      <td>618.473789</td>\n",
       "      <td>615</td>\n",
       "      <td>0.024605</td>\n",
       "      <td>7.5000</td>\n",
       "      <td>8.000</td>\n",
       "      <td>7.75000</td>\n",
       "      <td>5.250</td>\n",
       "      <td>5.500</td>\n",
       "      <td>5.3750</td>\n",
       "      <td>5.748763</td>\n",
       "    </tr>\n",
       "    <tr>\n",
       "      <th>1996-01-04</th>\n",
       "      <td>617.7</td>\n",
       "      <td>1996-01-20</td>\n",
       "      <td>14</td>\n",
       "      <td>618.473789</td>\n",
       "      <td>620</td>\n",
       "      <td>0.024605</td>\n",
       "      <td>4.5000</td>\n",
       "      <td>4.875</td>\n",
       "      <td>4.68750</td>\n",
       "      <td>6.875</td>\n",
       "      <td>7.125</td>\n",
       "      <td>7.0000</td>\n",
       "      <td>5.748763</td>\n",
       "    </tr>\n",
       "    <tr>\n",
       "      <th>1996-01-04</th>\n",
       "      <td>617.7</td>\n",
       "      <td>1996-01-20</td>\n",
       "      <td>14</td>\n",
       "      <td>618.473789</td>\n",
       "      <td>625</td>\n",
       "      <td>0.024605</td>\n",
       "      <td>2.2500</td>\n",
       "      <td>2.500</td>\n",
       "      <td>2.37500</td>\n",
       "      <td>9.250</td>\n",
       "      <td>9.500</td>\n",
       "      <td>9.3750</td>\n",
       "      <td>5.748763</td>\n",
       "    </tr>\n",
       "    <tr>\n",
       "      <th>1996-01-04</th>\n",
       "      <td>617.7</td>\n",
       "      <td>1996-01-20</td>\n",
       "      <td>14</td>\n",
       "      <td>618.473789</td>\n",
       "      <td>630</td>\n",
       "      <td>0.024605</td>\n",
       "      <td>1.1875</td>\n",
       "      <td>1.375</td>\n",
       "      <td>1.28125</td>\n",
       "      <td>14.250</td>\n",
       "      <td>15.000</td>\n",
       "      <td>14.6250</td>\n",
       "      <td>5.748763</td>\n",
       "    </tr>\n",
       "    <tr>\n",
       "      <th>1996-01-04</th>\n",
       "      <td>617.7</td>\n",
       "      <td>1996-01-20</td>\n",
       "      <td>14</td>\n",
       "      <td>618.473789</td>\n",
       "      <td>635</td>\n",
       "      <td>0.024605</td>\n",
       "      <td>0.6250</td>\n",
       "      <td>0.750</td>\n",
       "      <td>0.68750</td>\n",
       "      <td>18.750</td>\n",
       "      <td>19.500</td>\n",
       "      <td>19.1250</td>\n",
       "      <td>5.748763</td>\n",
       "    </tr>\n",
       "    <tr>\n",
       "      <th>1996-01-04</th>\n",
       "      <td>617.7</td>\n",
       "      <td>1996-02-17</td>\n",
       "      <td>42</td>\n",
       "      <td>619.989341</td>\n",
       "      <td>600</td>\n",
       "      <td>0.024605</td>\n",
       "      <td>21.1250</td>\n",
       "      <td>22.125</td>\n",
       "      <td>21.62500</td>\n",
       "      <td>3.875</td>\n",
       "      <td>4.125</td>\n",
       "      <td>4.0000</td>\n",
       "      <td>5.689908</td>\n",
       "    </tr>\n",
       "    <tr>\n",
       "      <th>1996-01-04</th>\n",
       "      <td>617.7</td>\n",
       "      <td>1996-02-17</td>\n",
       "      <td>42</td>\n",
       "      <td>619.989341</td>\n",
       "      <td>605</td>\n",
       "      <td>0.024605</td>\n",
       "      <td>17.3750</td>\n",
       "      <td>18.125</td>\n",
       "      <td>17.75000</td>\n",
       "      <td>4.875</td>\n",
       "      <td>5.375</td>\n",
       "      <td>5.1250</td>\n",
       "      <td>5.689908</td>\n",
       "    </tr>\n",
       "  </tbody>\n",
       "</table>\n",
       "</div>"
      ],
      "text/plain": [
       "            SpotPrice  Expiration  Maturity  ForwardPrice  Strike  Dividend  \\\n",
       "Date                                                                          \n",
       "1996-01-04      617.7  1996-01-20        14    618.473789     600  0.024605   \n",
       "1996-01-04      617.7  1996-01-20        14    618.473789     605  0.024605   \n",
       "1996-01-04      617.7  1996-01-20        14    618.473789     610  0.024605   \n",
       "1996-01-04      617.7  1996-01-20        14    618.473789     615  0.024605   \n",
       "1996-01-04      617.7  1996-01-20        14    618.473789     620  0.024605   \n",
       "1996-01-04      617.7  1996-01-20        14    618.473789     625  0.024605   \n",
       "1996-01-04      617.7  1996-01-20        14    618.473789     630  0.024605   \n",
       "1996-01-04      617.7  1996-01-20        14    618.473789     635  0.024605   \n",
       "1996-01-04      617.7  1996-02-17        42    619.989341     600  0.024605   \n",
       "1996-01-04      617.7  1996-02-17        42    619.989341     605  0.024605   \n",
       "\n",
       "            CallBid  CallOffer   CallMid  PutBid  PutOffer   PutMid  \\\n",
       "Date                                                                  \n",
       "1996-01-04  17.1250     17.875  17.50000   1.625     1.875   1.7500   \n",
       "1996-01-04  12.8750     13.625  13.25000   2.500     2.750   2.6250   \n",
       "1996-01-04  10.0000     10.375  10.18750   3.625     4.000   3.8125   \n",
       "1996-01-04   7.5000      8.000   7.75000   5.250     5.500   5.3750   \n",
       "1996-01-04   4.5000      4.875   4.68750   6.875     7.125   7.0000   \n",
       "1996-01-04   2.2500      2.500   2.37500   9.250     9.500   9.3750   \n",
       "1996-01-04   1.1875      1.375   1.28125  14.250    15.000  14.6250   \n",
       "1996-01-04   0.6250      0.750   0.68750  18.750    19.500  19.1250   \n",
       "1996-01-04  21.1250     22.125  21.62500   3.875     4.125   4.0000   \n",
       "1996-01-04  17.3750     18.125  17.75000   4.875     5.375   5.1250   \n",
       "\n",
       "            Rates_interp  \n",
       "Date                      \n",
       "1996-01-04      5.748763  \n",
       "1996-01-04      5.748763  \n",
       "1996-01-04      5.748763  \n",
       "1996-01-04      5.748763  \n",
       "1996-01-04      5.748763  \n",
       "1996-01-04      5.748763  \n",
       "1996-01-04      5.748763  \n",
       "1996-01-04      5.748763  \n",
       "1996-01-04      5.689908  \n",
       "1996-01-04      5.689908  "
      ]
     },
     "execution_count": 15,
     "metadata": {},
     "output_type": "execute_result"
    }
   ],
   "source": [
    "data = data.set_index(['Date'])\n",
    "data.head(10)"
   ]
  }
 ],
 "metadata": {
  "kernelspec": {
   "display_name": "Python 3",
   "language": "python",
   "name": "python3"
  },
  "language_info": {
   "codemirror_mode": {
    "name": "ipython",
    "version": 3
   },
   "file_extension": ".py",
   "mimetype": "text/x-python",
   "name": "python",
   "nbconvert_exporter": "python",
   "pygments_lexer": "ipython3",
   "version": "3.8.8"
  },
  "toc": {
   "base_numbering": 1,
   "nav_menu": {},
   "number_sections": true,
   "sideBar": true,
   "skip_h1_title": false,
   "title_cell": "Table of Contents",
   "title_sidebar": "Contents",
   "toc_cell": true,
   "toc_position": {},
   "toc_section_display": true,
   "toc_window_display": false
  },
  "varInspector": {
   "cols": {
    "lenName": 16,
    "lenType": 16,
    "lenVar": 40
   },
   "kernels_config": {
    "python": {
     "delete_cmd_postfix": "",
     "delete_cmd_prefix": "del ",
     "library": "var_list.py",
     "varRefreshCmd": "print(var_dic_list())"
    },
    "r": {
     "delete_cmd_postfix": ") ",
     "delete_cmd_prefix": "rm(",
     "library": "var_list.r",
     "varRefreshCmd": "cat(var_dic_list()) "
    }
   },
   "types_to_exclude": [
    "module",
    "function",
    "builtin_function_or_method",
    "instance",
    "_Feature"
   ],
   "window_display": true
  }
 },
 "nbformat": 4,
 "nbformat_minor": 5
}
